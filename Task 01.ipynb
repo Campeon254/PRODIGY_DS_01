{
 "cells": [
  {
   "cell_type": "markdown",
   "id": "9b5877d2",
   "metadata": {},
   "source": [
    "# VISUALIZATIONS\n",
    "In this task, we will be visualizing categorical and continuous variables using various plots and charts.\n",
    "The data is provided \n",
    "\n",
    "Sample Dataset :- https://github.com/Prodigy-InfoTech/data-science-datasets/tree/main/Task%201"
   ]
  },
  {
   "cell_type": "code",
   "execution_count": 85,
   "id": "409e17c8",
   "metadata": {},
   "outputs": [
    {
     "data": {
      "application/vnd.microsoft.datawrangler.viewer.v0+json": {
       "columns": [
        {
         "name": "index",
         "rawType": "int64",
         "type": "integer"
        },
        {
         "name": "Country Name",
         "rawType": "object",
         "type": "string"
        },
        {
         "name": "Country Code",
         "rawType": "object",
         "type": "string"
        },
        {
         "name": "Indicator Name",
         "rawType": "object",
         "type": "string"
        },
        {
         "name": "Indicator Code",
         "rawType": "object",
         "type": "string"
        },
        {
         "name": "1960",
         "rawType": "float64",
         "type": "float"
        },
        {
         "name": "1961",
         "rawType": "float64",
         "type": "float"
        },
        {
         "name": "1962",
         "rawType": "float64",
         "type": "float"
        },
        {
         "name": "1963",
         "rawType": "float64",
         "type": "float"
        },
        {
         "name": "1964",
         "rawType": "float64",
         "type": "float"
        },
        {
         "name": "1965",
         "rawType": "float64",
         "type": "float"
        },
        {
         "name": "1966",
         "rawType": "float64",
         "type": "float"
        },
        {
         "name": "1967",
         "rawType": "float64",
         "type": "float"
        },
        {
         "name": "1968",
         "rawType": "float64",
         "type": "float"
        },
        {
         "name": "1969",
         "rawType": "float64",
         "type": "float"
        },
        {
         "name": "1970",
         "rawType": "float64",
         "type": "float"
        },
        {
         "name": "1971",
         "rawType": "float64",
         "type": "float"
        },
        {
         "name": "1972",
         "rawType": "float64",
         "type": "float"
        },
        {
         "name": "1973",
         "rawType": "float64",
         "type": "float"
        },
        {
         "name": "1974",
         "rawType": "float64",
         "type": "float"
        },
        {
         "name": "1975",
         "rawType": "float64",
         "type": "float"
        },
        {
         "name": "1976",
         "rawType": "float64",
         "type": "float"
        },
        {
         "name": "1977",
         "rawType": "float64",
         "type": "float"
        },
        {
         "name": "1978",
         "rawType": "float64",
         "type": "float"
        },
        {
         "name": "1979",
         "rawType": "float64",
         "type": "float"
        },
        {
         "name": "1980",
         "rawType": "float64",
         "type": "float"
        },
        {
         "name": "1981",
         "rawType": "float64",
         "type": "float"
        },
        {
         "name": "1982",
         "rawType": "float64",
         "type": "float"
        },
        {
         "name": "1983",
         "rawType": "float64",
         "type": "float"
        },
        {
         "name": "1984",
         "rawType": "float64",
         "type": "float"
        },
        {
         "name": "1985",
         "rawType": "float64",
         "type": "float"
        },
        {
         "name": "1986",
         "rawType": "float64",
         "type": "float"
        },
        {
         "name": "1987",
         "rawType": "float64",
         "type": "float"
        },
        {
         "name": "1988",
         "rawType": "float64",
         "type": "float"
        },
        {
         "name": "1989",
         "rawType": "float64",
         "type": "float"
        },
        {
         "name": "1990",
         "rawType": "float64",
         "type": "float"
        },
        {
         "name": "1991",
         "rawType": "float64",
         "type": "float"
        },
        {
         "name": "1992",
         "rawType": "float64",
         "type": "float"
        },
        {
         "name": "1993",
         "rawType": "float64",
         "type": "float"
        },
        {
         "name": "1994",
         "rawType": "float64",
         "type": "float"
        },
        {
         "name": "1995",
         "rawType": "float64",
         "type": "float"
        },
        {
         "name": "1996",
         "rawType": "float64",
         "type": "float"
        },
        {
         "name": "1997",
         "rawType": "float64",
         "type": "float"
        },
        {
         "name": "1998",
         "rawType": "float64",
         "type": "float"
        },
        {
         "name": "1999",
         "rawType": "float64",
         "type": "float"
        },
        {
         "name": "2000",
         "rawType": "float64",
         "type": "float"
        },
        {
         "name": "2001",
         "rawType": "float64",
         "type": "float"
        },
        {
         "name": "2002",
         "rawType": "float64",
         "type": "float"
        },
        {
         "name": "2003",
         "rawType": "float64",
         "type": "float"
        },
        {
         "name": "2004",
         "rawType": "float64",
         "type": "float"
        },
        {
         "name": "2005",
         "rawType": "float64",
         "type": "float"
        },
        {
         "name": "2006",
         "rawType": "float64",
         "type": "float"
        },
        {
         "name": "2007",
         "rawType": "float64",
         "type": "float"
        },
        {
         "name": "2008",
         "rawType": "float64",
         "type": "float"
        },
        {
         "name": "2009",
         "rawType": "float64",
         "type": "float"
        },
        {
         "name": "2010",
         "rawType": "float64",
         "type": "float"
        },
        {
         "name": "2011",
         "rawType": "float64",
         "type": "float"
        },
        {
         "name": "2012",
         "rawType": "float64",
         "type": "float"
        },
        {
         "name": "2013",
         "rawType": "float64",
         "type": "float"
        },
        {
         "name": "2014",
         "rawType": "float64",
         "type": "float"
        },
        {
         "name": "2015",
         "rawType": "float64",
         "type": "float"
        },
        {
         "name": "2016",
         "rawType": "float64",
         "type": "float"
        },
        {
         "name": "2017",
         "rawType": "float64",
         "type": "float"
        },
        {
         "name": "2018",
         "rawType": "float64",
         "type": "float"
        },
        {
         "name": "2019",
         "rawType": "float64",
         "type": "float"
        },
        {
         "name": "2020",
         "rawType": "float64",
         "type": "float"
        },
        {
         "name": "2021",
         "rawType": "float64",
         "type": "float"
        },
        {
         "name": "2022",
         "rawType": "float64",
         "type": "float"
        },
        {
         "name": "2023",
         "rawType": "float64",
         "type": "float"
        },
        {
         "name": "2024",
         "rawType": "float64",
         "type": "float"
        }
       ],
       "ref": "0099422b-0654-4f0f-811f-0d8befedfd3d",
       "rows": [
        [
         "0",
         "Aruba",
         "ABW",
         "Population, total",
         "SP.POP.TOTL",
         "54922.0",
         "55578.0",
         "56320.0",
         "57002.0",
         "57619.0",
         "58190.0",
         "58694.0",
         "58990.0",
         "59069.0",
         "59052.0",
         "58950.0",
         "58781.0",
         "58047.0",
         "58299.0",
         "58349.0",
         "58295.0",
         "58368.0",
         "58580.0",
         "58776.0",
         "59191.0",
         "59909.0",
         "60563.0",
         "61276.0",
         "62228.0",
         "62901.0",
         "61728.0",
         "59931.0",
         "59159.0",
         "59331.0",
         "60443.0",
         "62753.0",
         "65896.0",
         "69005.0",
         "73685.0",
         "77595.0",
         "79805.0",
         "83021.0",
         "86301.0",
         "88451.0",
         "89659.0",
         "90588.0",
         "91439.0",
         "92074.0",
         "93128.0",
         "95138.0",
         "97635.0",
         "99405.0",
         "100150.0",
         "100917.0",
         "101604.0",
         "101838.0",
         "102591.0",
         "104110.0",
         "105675.0",
         "106807.0",
         "107906.0",
         "108727.0",
         "108735.0",
         "108908.0",
         "109203.0",
         "108587.0",
         "107700.0",
         "107310.0",
         "107359.0",
         "107624.0"
        ],
        [
         "1",
         "Africa Eastern and Southern",
         "AFE",
         "Population, total",
         "SP.POP.TOTL",
         "130075728.0",
         "133534923.0",
         "137171659.0",
         "140945536.0",
         "144904094.0",
         "149033472.0",
         "153281203.0",
         "157704381.0",
         "162329396.0",
         "167088245.0",
         "171984985.0",
         "177022314.0",
         "182126556.0",
         "187524135.0",
         "193186642.0",
         "198914573.0",
         "204802976.0",
         "210680842.0",
         "217074286.0",
         "223974122.0",
         "230792729.0",
         "238043099.0",
         "245822010.0",
         "253644643.0",
         "261458202.0",
         "269450407.0",
         "277621771.0",
         "286067346.0",
         "294498625.0",
         "302939121.0",
         "311748681.0",
         "320442961.0",
         "329082707.0",
         "338324002.0",
         "347441809.0",
         "356580375.0",
         "366138524.0",
         "375646235.0",
         "385505757.0",
         "395750933.0",
         "406156661.0",
         "416807868.0",
         "427820358.0",
         "439173286.0",
         "450928044.0",
         "463076637.0",
         "475606210.0",
         "488580707.0",
         "502070763.0",
         "516003448.0",
         "530308387.0",
         "544737983.0",
         "559609961.0",
         "575202699.0",
         "590968990.0",
         "607123269.0",
         "623369401.0",
         "640058741.0",
         "657801085.0",
         "675950189.0",
         "694446100.0",
         "713090928.0",
         "731821393.0",
         "750503764.0",
         "769294618.0"
        ],
        [
         "2",
         "Afghanistan",
         "AFG",
         "Population, total",
         "SP.POP.TOTL",
         "9035043.0",
         "9214083.0",
         "9404406.0",
         "9604487.0",
         "9814318.0",
         "10036008.0",
         "10266395.0",
         "10505959.0",
         "10756922.0",
         "11017409.0",
         "11290128.0",
         "11567667.0",
         "11853696.0",
         "12157999.0",
         "12469127.0",
         "12773954.0",
         "13059851.0",
         "13340756.0",
         "13611441.0",
         "13655567.0",
         "13169311.0",
         "11937581.0",
         "10991378.0",
         "10917982.0",
         "11190221.0",
         "11426852.0",
         "11420074.0",
         "11387818.0",
         "11523298.0",
         "11874088.0",
         "12045660.0",
         "12238879.0",
         "13278974.0",
         "14943172.0",
         "16250794.0",
         "17065836.0",
         "17763266.0",
         "18452091.0",
         "19159996.0",
         "19887785.0",
         "20130327.0",
         "20284307.0",
         "21378117.0",
         "22733049.0",
         "23560654.0",
         "24404567.0",
         "25424094.0",
         "25909852.0",
         "26482622.0",
         "27466101.0",
         "28284089.0",
         "29347708.0",
         "30560034.0",
         "31622704.0",
         "32792523.0",
         "33831764.0",
         "34700612.0",
         "35688935.0",
         "36743039.0",
         "37856121.0",
         "39068979.0",
         "40000412.0",
         "40578842.0",
         "41454761.0",
         "42647492.0"
        ],
        [
         "3",
         "Africa Western and Central",
         "AFW",
         "Population, total",
         "SP.POP.TOTL",
         "97630925.0",
         "99706674.0",
         "101854756.0",
         "104089175.0",
         "106388440.0",
         "108772632.0",
         "111246953.0",
         "113795019.0",
         "116444636.0",
         "119203521.0",
         "122086536.0",
         "125072948.0",
         "128176494.0",
         "131449942.0",
         "134911581.0",
         "138569918.0",
         "142337272.0",
         "146258576.0",
         "150402616.0",
         "154721711.0",
         "159166518.0",
         "163762473.0",
         "168585118.0",
         "173255157.0",
         "177880746.0",
         "182811038.0",
         "187889141.0",
         "193104347.0",
         "198485027.0",
         "204062274.0",
         "209566031.0",
         "215178709.0",
         "221191375.0",
         "227246778.0",
         "233360104.0",
         "239801875.0",
         "246415446.0",
         "253207584.0",
         "260297834.0",
         "267506298.0",
         "274968446.0",
         "282780717.0",
         "290841795.0",
         "299142845.0",
         "307725100.0",
         "316588476.0",
         "325663158.0",
         "334984176.0",
         "344586109.0",
         "354343844.0",
         "364358270.0",
         "374790143.0",
         "385360349.0",
         "396030207.0",
         "406992047.0",
         "418127845.0",
         "429454743.0",
         "440882906.0",
         "452195915.0",
         "463365429.0",
         "474569351.0",
         "485920997.0",
         "497387180.0",
         "509398589.0",
         "521764076.0"
        ],
        [
         "4",
         "Angola",
         "AGO",
         "Population, total",
         "SP.POP.TOTL",
         "5231654.0",
         "5301583.0",
         "5354310.0",
         "5408320.0",
         "5464187.0",
         "5521981.0",
         "5581386.0",
         "5641807.0",
         "5702699.0",
         "5763685.0",
         "5852788.0",
         "5991102.0",
         "6174262.0",
         "6388528.0",
         "6613367.0",
         "6842947.0",
         "7074664.0",
         "7317829.0",
         "7576734.0",
         "7847207.0",
         "8133872.0",
         "8435607.0",
         "8751648.0",
         "9082983.0",
         "9425917.0",
         "9779120.0",
         "10139450.0",
         "10497858.0",
         "10861291.0",
         "11238562.0",
         "11626360.0",
         "12023529.0",
         "12423712.0",
         "12827135.0",
         "13249764.0",
         "13699778.0",
         "14170973.0",
         "14660413.0",
         "15159370.0",
         "15667235.0",
         "16194869.0",
         "16747208.0",
         "17327699.0",
         "17943712.0",
         "18600423.0",
         "19291161.0",
         "20015279.0",
         "20778561.0",
         "21578655.0",
         "22414773.0",
         "23294825.0",
         "24218352.0",
         "25177394.0",
         "26165620.0",
         "27160769.0",
         "28157798.0",
         "29183070.0",
         "30234839.0",
         "31297155.0",
         "32375632.0",
         "33451132.0",
         "34532429.0",
         "35635029.0",
         "36749906.0",
         "37885849.0"
        ]
       ],
       "shape": {
        "columns": 69,
        "rows": 5
       }
      },
      "text/html": [
       "<div>\n",
       "<style scoped>\n",
       "    .dataframe tbody tr th:only-of-type {\n",
       "        vertical-align: middle;\n",
       "    }\n",
       "\n",
       "    .dataframe tbody tr th {\n",
       "        vertical-align: top;\n",
       "    }\n",
       "\n",
       "    .dataframe thead th {\n",
       "        text-align: right;\n",
       "    }\n",
       "</style>\n",
       "<table border=\"1\" class=\"dataframe\">\n",
       "  <thead>\n",
       "    <tr style=\"text-align: right;\">\n",
       "      <th></th>\n",
       "      <th>Country Name</th>\n",
       "      <th>Country Code</th>\n",
       "      <th>Indicator Name</th>\n",
       "      <th>Indicator Code</th>\n",
       "      <th>1960</th>\n",
       "      <th>1961</th>\n",
       "      <th>1962</th>\n",
       "      <th>1963</th>\n",
       "      <th>1964</th>\n",
       "      <th>1965</th>\n",
       "      <th>...</th>\n",
       "      <th>2015</th>\n",
       "      <th>2016</th>\n",
       "      <th>2017</th>\n",
       "      <th>2018</th>\n",
       "      <th>2019</th>\n",
       "      <th>2020</th>\n",
       "      <th>2021</th>\n",
       "      <th>2022</th>\n",
       "      <th>2023</th>\n",
       "      <th>2024</th>\n",
       "    </tr>\n",
       "  </thead>\n",
       "  <tbody>\n",
       "    <tr>\n",
       "      <th>0</th>\n",
       "      <td>Aruba</td>\n",
       "      <td>ABW</td>\n",
       "      <td>Population, total</td>\n",
       "      <td>SP.POP.TOTL</td>\n",
       "      <td>54922.0</td>\n",
       "      <td>55578.0</td>\n",
       "      <td>56320.0</td>\n",
       "      <td>57002.0</td>\n",
       "      <td>57619.0</td>\n",
       "      <td>58190.0</td>\n",
       "      <td>...</td>\n",
       "      <td>107906.0</td>\n",
       "      <td>108727.0</td>\n",
       "      <td>108735.0</td>\n",
       "      <td>108908.0</td>\n",
       "      <td>109203.0</td>\n",
       "      <td>108587.0</td>\n",
       "      <td>107700.0</td>\n",
       "      <td>107310.0</td>\n",
       "      <td>107359.0</td>\n",
       "      <td>107624.0</td>\n",
       "    </tr>\n",
       "    <tr>\n",
       "      <th>1</th>\n",
       "      <td>Africa Eastern and Southern</td>\n",
       "      <td>AFE</td>\n",
       "      <td>Population, total</td>\n",
       "      <td>SP.POP.TOTL</td>\n",
       "      <td>130075728.0</td>\n",
       "      <td>133534923.0</td>\n",
       "      <td>137171659.0</td>\n",
       "      <td>140945536.0</td>\n",
       "      <td>144904094.0</td>\n",
       "      <td>149033472.0</td>\n",
       "      <td>...</td>\n",
       "      <td>607123269.0</td>\n",
       "      <td>623369401.0</td>\n",
       "      <td>640058741.0</td>\n",
       "      <td>657801085.0</td>\n",
       "      <td>675950189.0</td>\n",
       "      <td>694446100.0</td>\n",
       "      <td>713090928.0</td>\n",
       "      <td>731821393.0</td>\n",
       "      <td>750503764.0</td>\n",
       "      <td>769294618.0</td>\n",
       "    </tr>\n",
       "    <tr>\n",
       "      <th>2</th>\n",
       "      <td>Afghanistan</td>\n",
       "      <td>AFG</td>\n",
       "      <td>Population, total</td>\n",
       "      <td>SP.POP.TOTL</td>\n",
       "      <td>9035043.0</td>\n",
       "      <td>9214083.0</td>\n",
       "      <td>9404406.0</td>\n",
       "      <td>9604487.0</td>\n",
       "      <td>9814318.0</td>\n",
       "      <td>10036008.0</td>\n",
       "      <td>...</td>\n",
       "      <td>33831764.0</td>\n",
       "      <td>34700612.0</td>\n",
       "      <td>35688935.0</td>\n",
       "      <td>36743039.0</td>\n",
       "      <td>37856121.0</td>\n",
       "      <td>39068979.0</td>\n",
       "      <td>40000412.0</td>\n",
       "      <td>40578842.0</td>\n",
       "      <td>41454761.0</td>\n",
       "      <td>42647492.0</td>\n",
       "    </tr>\n",
       "    <tr>\n",
       "      <th>3</th>\n",
       "      <td>Africa Western and Central</td>\n",
       "      <td>AFW</td>\n",
       "      <td>Population, total</td>\n",
       "      <td>SP.POP.TOTL</td>\n",
       "      <td>97630925.0</td>\n",
       "      <td>99706674.0</td>\n",
       "      <td>101854756.0</td>\n",
       "      <td>104089175.0</td>\n",
       "      <td>106388440.0</td>\n",
       "      <td>108772632.0</td>\n",
       "      <td>...</td>\n",
       "      <td>418127845.0</td>\n",
       "      <td>429454743.0</td>\n",
       "      <td>440882906.0</td>\n",
       "      <td>452195915.0</td>\n",
       "      <td>463365429.0</td>\n",
       "      <td>474569351.0</td>\n",
       "      <td>485920997.0</td>\n",
       "      <td>497387180.0</td>\n",
       "      <td>509398589.0</td>\n",
       "      <td>521764076.0</td>\n",
       "    </tr>\n",
       "    <tr>\n",
       "      <th>4</th>\n",
       "      <td>Angola</td>\n",
       "      <td>AGO</td>\n",
       "      <td>Population, total</td>\n",
       "      <td>SP.POP.TOTL</td>\n",
       "      <td>5231654.0</td>\n",
       "      <td>5301583.0</td>\n",
       "      <td>5354310.0</td>\n",
       "      <td>5408320.0</td>\n",
       "      <td>5464187.0</td>\n",
       "      <td>5521981.0</td>\n",
       "      <td>...</td>\n",
       "      <td>28157798.0</td>\n",
       "      <td>29183070.0</td>\n",
       "      <td>30234839.0</td>\n",
       "      <td>31297155.0</td>\n",
       "      <td>32375632.0</td>\n",
       "      <td>33451132.0</td>\n",
       "      <td>34532429.0</td>\n",
       "      <td>35635029.0</td>\n",
       "      <td>36749906.0</td>\n",
       "      <td>37885849.0</td>\n",
       "    </tr>\n",
       "  </tbody>\n",
       "</table>\n",
       "<p>5 rows × 69 columns</p>\n",
       "</div>"
      ],
      "text/plain": [
       "                  Country Name Country Code     Indicator Name Indicator Code  \\\n",
       "0                        Aruba          ABW  Population, total    SP.POP.TOTL   \n",
       "1  Africa Eastern and Southern          AFE  Population, total    SP.POP.TOTL   \n",
       "2                  Afghanistan          AFG  Population, total    SP.POP.TOTL   \n",
       "3   Africa Western and Central          AFW  Population, total    SP.POP.TOTL   \n",
       "4                       Angola          AGO  Population, total    SP.POP.TOTL   \n",
       "\n",
       "          1960         1961         1962         1963         1964  \\\n",
       "0      54922.0      55578.0      56320.0      57002.0      57619.0   \n",
       "1  130075728.0  133534923.0  137171659.0  140945536.0  144904094.0   \n",
       "2    9035043.0    9214083.0    9404406.0    9604487.0    9814318.0   \n",
       "3   97630925.0   99706674.0  101854756.0  104089175.0  106388440.0   \n",
       "4    5231654.0    5301583.0    5354310.0    5408320.0    5464187.0   \n",
       "\n",
       "          1965  ...         2015         2016         2017         2018  \\\n",
       "0      58190.0  ...     107906.0     108727.0     108735.0     108908.0   \n",
       "1  149033472.0  ...  607123269.0  623369401.0  640058741.0  657801085.0   \n",
       "2   10036008.0  ...   33831764.0   34700612.0   35688935.0   36743039.0   \n",
       "3  108772632.0  ...  418127845.0  429454743.0  440882906.0  452195915.0   \n",
       "4    5521981.0  ...   28157798.0   29183070.0   30234839.0   31297155.0   \n",
       "\n",
       "          2019         2020         2021         2022         2023  \\\n",
       "0     109203.0     108587.0     107700.0     107310.0     107359.0   \n",
       "1  675950189.0  694446100.0  713090928.0  731821393.0  750503764.0   \n",
       "2   37856121.0   39068979.0   40000412.0   40578842.0   41454761.0   \n",
       "3  463365429.0  474569351.0  485920997.0  497387180.0  509398589.0   \n",
       "4   32375632.0   33451132.0   34532429.0   35635029.0   36749906.0   \n",
       "\n",
       "          2024  \n",
       "0     107624.0  \n",
       "1  769294618.0  \n",
       "2   42647492.0  \n",
       "3  521764076.0  \n",
       "4   37885849.0  \n",
       "\n",
       "[5 rows x 69 columns]"
      ]
     },
     "execution_count": 85,
     "metadata": {},
     "output_type": "execute_result"
    }
   ],
   "source": [
    "# Load libraries\n",
    "import pandas as pd\n",
    "import numpy as np\n",
    "import matplotlib.pyplot as plt\n",
    "import seaborn as sns\n",
    "import warnings\n",
    "warnings.filterwarnings('ignore')\n",
    "import scipy.stats as stats\n",
    "import plotly.express as px\n",
    "\n",
    "# Load data\n",
    "df = pd.read_csv(r'Data/World Population.csv')\n",
    "df.head()"
   ]
  },
  {
   "cell_type": "markdown",
   "id": "ff281913",
   "metadata": {},
   "source": [
    "The data contains the population of different countries over the years. From 1960 to 2024.\n",
    "\n",
    "## Data Preparation"
   ]
  },
  {
   "cell_type": "code",
   "execution_count": 86,
   "id": "a6a46891",
   "metadata": {},
   "outputs": [
    {
     "name": "stdout",
     "output_type": "stream",
     "text": [
      "Number of missing values per column:\n",
      "Country Name      0\n",
      "Country Code      0\n",
      "Indicator Name    0\n",
      "Indicator Code    0\n",
      "1960              2\n",
      "                 ..\n",
      "2020              1\n",
      "2021              1\n",
      "2022              1\n",
      "2023              1\n",
      "2024              1\n",
      "Length: 69, dtype: int64\n"
     ]
    }
   ],
   "source": [
    "# Check for missing values\n",
    "print(f\"Number of missing values per column:\\n{df.isnull().sum()}\")\n",
    "\n",
    "# Drop rows with missing values\n",
    "df.dropna(inplace=True)"
   ]
  },
  {
   "cell_type": "markdown",
   "id": "8d41f82f",
   "metadata": {},
   "source": [
    "To handle missing values, we first checked for any missing values in the dataset. After identifying the missing values, we decided to drop any rows that contained them. This is because the entire row contained missing population data and imputing such values could lead to inaccurate analyses. Therefore, we opted for a complete case analysis by removing these rows from the dataset."
   ]
  },
  {
   "cell_type": "code",
   "execution_count": 87,
   "id": "3b0a2b51",
   "metadata": {},
   "outputs": [
    {
     "name": "stdout",
     "output_type": "stream",
     "text": [
      "Number of duplicate rows: 0\n"
     ]
    }
   ],
   "source": [
    "# Check for duplicates\n",
    "print(f\"Number of duplicate rows: {df.duplicated().sum()}\")"
   ]
  },
  {
   "cell_type": "code",
   "execution_count": 88,
   "id": "85fcf762",
   "metadata": {},
   "outputs": [
    {
     "name": "stdout",
     "output_type": "stream",
     "text": [
      "<class 'pandas.core.frame.DataFrame'>\n",
      "Index: 264 entries, 0 to 265\n",
      "Data columns (total 69 columns):\n",
      " #   Column          Non-Null Count  Dtype  \n",
      "---  ------          --------------  -----  \n",
      " 0   Country Name    264 non-null    object \n",
      " 1   Country Code    264 non-null    object \n",
      " 2   Indicator Name  264 non-null    object \n",
      " 3   Indicator Code  264 non-null    object \n",
      " 4   1960            264 non-null    float64\n",
      " 5   1961            264 non-null    float64\n",
      " 6   1962            264 non-null    float64\n",
      " 7   1963            264 non-null    float64\n",
      " 8   1964            264 non-null    float64\n",
      " 9   1965            264 non-null    float64\n",
      " 10  1966            264 non-null    float64\n",
      " 11  1967            264 non-null    float64\n",
      " 12  1968            264 non-null    float64\n",
      " 13  1969            264 non-null    float64\n",
      " 14  1970            264 non-null    float64\n",
      " 15  1971            264 non-null    float64\n",
      " 16  1972            264 non-null    float64\n",
      " 17  1973            264 non-null    float64\n",
      " 18  1974            264 non-null    float64\n",
      " 19  1975            264 non-null    float64\n",
      " 20  1976            264 non-null    float64\n",
      " 21  1977            264 non-null    float64\n",
      " 22  1978            264 non-null    float64\n",
      " 23  1979            264 non-null    float64\n",
      " 24  1980            264 non-null    float64\n",
      " 25  1981            264 non-null    float64\n",
      " 26  1982            264 non-null    float64\n",
      " 27  1983            264 non-null    float64\n",
      " 28  1984            264 non-null    float64\n",
      " 29  1985            264 non-null    float64\n",
      " 30  1986            264 non-null    float64\n",
      " 31  1987            264 non-null    float64\n",
      " 32  1988            264 non-null    float64\n",
      " 33  1989            264 non-null    float64\n",
      " 34  1990            264 non-null    float64\n",
      " 35  1991            264 non-null    float64\n",
      " 36  1992            264 non-null    float64\n",
      " 37  1993            264 non-null    float64\n",
      " 38  1994            264 non-null    float64\n",
      " 39  1995            264 non-null    float64\n",
      " 40  1996            264 non-null    float64\n",
      " 41  1997            264 non-null    float64\n",
      " 42  1998            264 non-null    float64\n",
      " 43  1999            264 non-null    float64\n",
      " 44  2000            264 non-null    float64\n",
      " 45  2001            264 non-null    float64\n",
      " 46  2002            264 non-null    float64\n",
      " 47  2003            264 non-null    float64\n",
      " 48  2004            264 non-null    float64\n",
      " 49  2005            264 non-null    float64\n",
      " 50  2006            264 non-null    float64\n",
      " 51  2007            264 non-null    float64\n",
      " 52  2008            264 non-null    float64\n",
      " 53  2009            264 non-null    float64\n",
      " 54  2010            264 non-null    float64\n",
      " 55  2011            264 non-null    float64\n",
      " 56  2012            264 non-null    float64\n",
      " 57  2013            264 non-null    float64\n",
      " 58  2014            264 non-null    float64\n",
      " 59  2015            264 non-null    float64\n",
      " 60  2016            264 non-null    float64\n",
      " 61  2017            264 non-null    float64\n",
      " 62  2018            264 non-null    float64\n",
      " 63  2019            264 non-null    float64\n",
      " 64  2020            264 non-null    float64\n",
      " 65  2021            264 non-null    float64\n",
      " 66  2022            264 non-null    float64\n",
      " 67  2023            264 non-null    float64\n",
      " 68  2024            264 non-null    float64\n",
      "dtypes: float64(65), object(4)\n",
      "memory usage: 144.4+ KB\n",
      "Data description:\n",
      "None\n"
     ]
    }
   ],
   "source": [
    "# Data description\n",
    "print(f\"Data description:\\n{df.info()}\")"
   ]
  },
  {
   "cell_type": "code",
   "execution_count": 89,
   "id": "3fc5235c",
   "metadata": {},
   "outputs": [],
   "source": [
    "# Transform data \n",
    "data = df.melt(\n",
    "    id_vars=[\"Country Name\", \"Country Code\", \"Indicator Name\", \"Indicator Code\"],\n",
    "    var_name=\"Year\", \n",
    "    value_name=\"Population\"\n",
    ")\n",
    "\n",
    "# Convert Year to numeric\n",
    "data[\"Year\"] = pd.to_numeric(data[\"Year\"], errors=\"coerce\")\n",
    "data.head()\n",
    "\n",
    "# Save the cleaned data\n",
    "data.to_csv(r\"Data/cleaned_data.csv\", index=False)\n"
   ]
  },
  {
   "cell_type": "markdown",
   "id": "1154588c",
   "metadata": {},
   "source": [
    "## Exploratory Data Analysis (EDA)\n"
   ]
  },
  {
   "cell_type": "code",
   "execution_count": 90,
   "id": "8d9d18a2",
   "metadata": {},
   "outputs": [
    {
     "data": {
      "application/vnd.plotly.v1+json": {
       "config": {
        "plotlyServerURL": "https://plot.ly"
       },
       "data": [
        {
         "coloraxis": "coloraxis",
         "geo": "geo",
         "hovertemplate": "<b>%{hovertext}</b><br><br>Country Code=%{location}<br>Population=%{z}<extra></extra>",
         "hovertext": [
          "Aruba",
          "Africa Eastern and Southern",
          "Afghanistan",
          "Africa Western and Central",
          "Angola",
          "Albania",
          "Andorra",
          "Arab World",
          "United Arab Emirates",
          "Argentina",
          "Armenia",
          "American Samoa",
          "Antigua and Barbuda",
          "Australia",
          "Austria",
          "Azerbaijan",
          "Burundi",
          "Belgium",
          "Benin",
          "Burkina Faso",
          "Bangladesh",
          "Bulgaria",
          "Bahrain",
          "Bahamas, The",
          "Bosnia and Herzegovina",
          "Belarus",
          "Belize",
          "Bermuda",
          "Bolivia",
          "Brazil",
          "Barbados",
          "Brunei Darussalam",
          "Bhutan",
          "Botswana",
          "Central African Republic",
          "Canada",
          "Central Europe and the Baltics",
          "Switzerland",
          "Channel Islands",
          "Chile",
          "China",
          "Cote d'Ivoire",
          "Cameroon",
          "Congo, Dem. Rep.",
          "Congo, Rep.",
          "Colombia",
          "Comoros",
          "Cabo Verde",
          "Costa Rica",
          "Caribbean small states",
          "Cuba",
          "Curacao",
          "Cayman Islands",
          "Cyprus",
          "Czechia",
          "Germany",
          "Djibouti",
          "Dominica",
          "Denmark",
          "Dominican Republic",
          "Algeria",
          "East Asia & Pacific (excluding high income)",
          "Early-demographic dividend",
          "East Asia & Pacific",
          "Europe & Central Asia (excluding high income)",
          "Europe & Central Asia",
          "Ecuador",
          "Egypt, Arab Rep.",
          "Euro area",
          "Eritrea",
          "Spain",
          "Estonia",
          "Ethiopia",
          "European Union",
          "Fragile and conflict affected situations",
          "Finland",
          "Fiji",
          "France",
          "Faroe Islands",
          "Micronesia, Fed. Sts.",
          "Gabon",
          "United Kingdom",
          "Georgia",
          "Ghana",
          "Gibraltar",
          "Guinea",
          "Gambia, The",
          "Guinea-Bissau",
          "Equatorial Guinea",
          "Greece",
          "Grenada",
          "Greenland",
          "Guatemala",
          "Guam",
          "Guyana",
          "High income",
          "Hong Kong SAR, China",
          "Honduras",
          "Heavily indebted poor countries (HIPC)",
          "Croatia",
          "Haiti",
          "Hungary",
          "IBRD only",
          "IDA & IBRD total",
          "IDA total",
          "IDA blend",
          "Indonesia",
          "IDA only",
          "Isle of Man",
          "India",
          "Ireland",
          "Iran, Islamic Rep.",
          "Iraq",
          "Iceland",
          "Israel",
          "Italy",
          "Jamaica",
          "Jordan",
          "Japan",
          "Kazakhstan",
          "Kenya",
          "Kyrgyz Republic",
          "Cambodia",
          "Kiribati",
          "St. Kitts and Nevis",
          "Korea, Rep.",
          "Kuwait",
          "Latin America & Caribbean (excluding high income)",
          "Lao PDR",
          "Lebanon",
          "Liberia",
          "Libya",
          "St. Lucia",
          "Latin America & Caribbean",
          "Least developed countries: UN classification",
          "Low income",
          "Liechtenstein",
          "Sri Lanka",
          "Lower middle income",
          "Low & middle income",
          "Lesotho",
          "Late-demographic dividend",
          "Lithuania",
          "Luxembourg",
          "Latvia",
          "Macao SAR, China",
          "St. Martin (French part)",
          "Morocco",
          "Monaco",
          "Moldova",
          "Madagascar",
          "Maldives",
          "Middle East, North Africa, Afghanistan & Pakistan",
          "Mexico",
          "Marshall Islands",
          "Middle income",
          "North Macedonia",
          "Mali",
          "Malta",
          "Myanmar",
          "Middle East, North Africa, Afghanistan & Pakistan (excluding high income)",
          "Montenegro",
          "Mongolia",
          "Northern Mariana Islands",
          "Mozambique",
          "Mauritania",
          "Mauritius",
          "Malawi",
          "Malaysia",
          "North America",
          "Namibia",
          "New Caledonia",
          "Niger",
          "Nigeria",
          "Nicaragua",
          "Netherlands",
          "Norway",
          "Nepal",
          "Nauru",
          "New Zealand",
          "OECD members",
          "Oman",
          "Other small states",
          "Pakistan",
          "Panama",
          "Peru",
          "Philippines",
          "Palau",
          "Papua New Guinea",
          "Poland",
          "Pre-demographic dividend",
          "Puerto Rico (US)",
          "Korea, Dem. People's Rep.",
          "Portugal",
          "Paraguay",
          "Pacific island small states",
          "Post-demographic dividend",
          "French Polynesia",
          "Qatar",
          "Romania",
          "Russian Federation",
          "Rwanda",
          "South Asia",
          "Saudi Arabia",
          "Sudan",
          "Senegal",
          "Singapore",
          "Solomon Islands",
          "Sierra Leone",
          "El Salvador",
          "San Marino",
          "Somalia",
          "Serbia",
          "Sub-Saharan Africa (excluding high income)",
          "South Sudan",
          "Sub-Saharan Africa",
          "Small states",
          "Sao Tome and Principe",
          "Suriname",
          "Slovak Republic",
          "Slovenia",
          "Sweden",
          "Eswatini",
          "Sint Maarten (Dutch part)",
          "Seychelles",
          "Syrian Arab Republic",
          "Turks and Caicos Islands",
          "Chad",
          "East Asia & Pacific (IDA & IBRD countries)",
          "Europe & Central Asia (IDA & IBRD countries)",
          "Togo",
          "Thailand",
          "Tajikistan",
          "Turkmenistan",
          "Latin America & the Caribbean (IDA & IBRD countries)",
          "Timor-Leste",
          "Middle East, North Africa, Afghanistan & Pakistan (IDA & IBRD)",
          "Tonga",
          "South Asia (IDA & IBRD)",
          "Sub-Saharan Africa (IDA & IBRD countries)",
          "Trinidad and Tobago",
          "Tunisia",
          "Turkiye",
          "Tuvalu",
          "Tanzania",
          "Uganda",
          "Ukraine",
          "Upper middle income",
          "Uruguay",
          "United States",
          "Uzbekistan",
          "St. Vincent and the Grenadines",
          "Venezuela, RB",
          "British Virgin Islands",
          "Virgin Islands (U.S.)",
          "Viet Nam",
          "Vanuatu",
          "World",
          "Samoa",
          "Kosovo",
          "Yemen, Rep.",
          "South Africa",
          "Zambia",
          "Zimbabwe"
         ],
         "locations": [
          "ABW",
          "AFE",
          "AFG",
          "AFW",
          "AGO",
          "ALB",
          "AND",
          "ARB",
          "ARE",
          "ARG",
          "ARM",
          "ASM",
          "ATG",
          "AUS",
          "AUT",
          "AZE",
          "BDI",
          "BEL",
          "BEN",
          "BFA",
          "BGD",
          "BGR",
          "BHR",
          "BHS",
          "BIH",
          "BLR",
          "BLZ",
          "BMU",
          "BOL",
          "BRA",
          "BRB",
          "BRN",
          "BTN",
          "BWA",
          "CAF",
          "CAN",
          "CEB",
          "CHE",
          "CHI",
          "CHL",
          "CHN",
          "CIV",
          "CMR",
          "COD",
          "COG",
          "COL",
          "COM",
          "CPV",
          "CRI",
          "CSS",
          "CUB",
          "CUW",
          "CYM",
          "CYP",
          "CZE",
          "DEU",
          "DJI",
          "DMA",
          "DNK",
          "DOM",
          "DZA",
          "EAP",
          "EAR",
          "EAS",
          "ECA",
          "ECS",
          "ECU",
          "EGY",
          "EMU",
          "ERI",
          "ESP",
          "EST",
          "ETH",
          "EUU",
          "FCS",
          "FIN",
          "FJI",
          "FRA",
          "FRO",
          "FSM",
          "GAB",
          "GBR",
          "GEO",
          "GHA",
          "GIB",
          "GIN",
          "GMB",
          "GNB",
          "GNQ",
          "GRC",
          "GRD",
          "GRL",
          "GTM",
          "GUM",
          "GUY",
          "HIC",
          "HKG",
          "HND",
          "HPC",
          "HRV",
          "HTI",
          "HUN",
          "IBD",
          "IBT",
          "IDA",
          "IDB",
          "IDN",
          "IDX",
          "IMN",
          "IND",
          "IRL",
          "IRN",
          "IRQ",
          "ISL",
          "ISR",
          "ITA",
          "JAM",
          "JOR",
          "JPN",
          "KAZ",
          "KEN",
          "KGZ",
          "KHM",
          "KIR",
          "KNA",
          "KOR",
          "KWT",
          "LAC",
          "LAO",
          "LBN",
          "LBR",
          "LBY",
          "LCA",
          "LCN",
          "LDC",
          "LIC",
          "LIE",
          "LKA",
          "LMC",
          "LMY",
          "LSO",
          "LTE",
          "LTU",
          "LUX",
          "LVA",
          "MAC",
          "MAF",
          "MAR",
          "MCO",
          "MDA",
          "MDG",
          "MDV",
          "MEA",
          "MEX",
          "MHL",
          "MIC",
          "MKD",
          "MLI",
          "MLT",
          "MMR",
          "MNA",
          "MNE",
          "MNG",
          "MNP",
          "MOZ",
          "MRT",
          "MUS",
          "MWI",
          "MYS",
          "NAC",
          "NAM",
          "NCL",
          "NER",
          "NGA",
          "NIC",
          "NLD",
          "NOR",
          "NPL",
          "NRU",
          "NZL",
          "OED",
          "OMN",
          "OSS",
          "PAK",
          "PAN",
          "PER",
          "PHL",
          "PLW",
          "PNG",
          "POL",
          "PRE",
          "PRI",
          "PRK",
          "PRT",
          "PRY",
          "PSS",
          "PST",
          "PYF",
          "QAT",
          "ROU",
          "RUS",
          "RWA",
          "SAS",
          "SAU",
          "SDN",
          "SEN",
          "SGP",
          "SLB",
          "SLE",
          "SLV",
          "SMR",
          "SOM",
          "SRB",
          "SSA",
          "SSD",
          "SSF",
          "SST",
          "STP",
          "SUR",
          "SVK",
          "SVN",
          "SWE",
          "SWZ",
          "SXM",
          "SYC",
          "SYR",
          "TCA",
          "TCD",
          "TEA",
          "TEC",
          "TGO",
          "THA",
          "TJK",
          "TKM",
          "TLA",
          "TLS",
          "TMN",
          "TON",
          "TSA",
          "TSS",
          "TTO",
          "TUN",
          "TUR",
          "TUV",
          "TZA",
          "UGA",
          "UKR",
          "UMC",
          "URY",
          "USA",
          "UZB",
          "VCT",
          "VEN",
          "VGB",
          "VIR",
          "VNM",
          "VUT",
          "WLD",
          "WSM",
          "XKX",
          "YEM",
          "ZAF",
          "ZMB",
          "ZWE"
         ],
         "name": "",
         "type": "choropleth",
         "z": {
          "bdata": "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",
          "dtype": "f8"
         }
        }
       ],
       "layout": {
        "coloraxis": {
         "colorbar": {
          "title": {
           "text": "Population"
          }
         },
         "colorscale": [
          [
           0,
           "#440154"
          ],
          [
           0.1111111111111111,
           "#482878"
          ],
          [
           0.2222222222222222,
           "#3e4989"
          ],
          [
           0.3333333333333333,
           "#31688e"
          ],
          [
           0.4444444444444444,
           "#26828e"
          ],
          [
           0.5555555555555556,
           "#1f9e89"
          ],
          [
           0.6666666666666666,
           "#35b779"
          ],
          [
           0.7777777777777778,
           "#6ece58"
          ],
          [
           0.8888888888888888,
           "#b5de2b"
          ],
          [
           1,
           "#fde725"
          ]
         ]
        },
        "geo": {
         "center": {},
         "domain": {
          "x": [
           0,
           1
          ],
          "y": [
           0,
           1
          ]
         }
        },
        "legend": {
         "tracegroupgap": 0
        },
        "template": {
         "data": {
          "bar": [
           {
            "error_x": {
             "color": "#2a3f5f"
            },
            "error_y": {
             "color": "#2a3f5f"
            },
            "marker": {
             "line": {
              "color": "#E5ECF6",
              "width": 0.5
             },
             "pattern": {
              "fillmode": "overlay",
              "size": 10,
              "solidity": 0.2
             }
            },
            "type": "bar"
           }
          ],
          "barpolar": [
           {
            "marker": {
             "line": {
              "color": "#E5ECF6",
              "width": 0.5
             },
             "pattern": {
              "fillmode": "overlay",
              "size": 10,
              "solidity": 0.2
             }
            },
            "type": "barpolar"
           }
          ],
          "carpet": [
           {
            "aaxis": {
             "endlinecolor": "#2a3f5f",
             "gridcolor": "white",
             "linecolor": "white",
             "minorgridcolor": "white",
             "startlinecolor": "#2a3f5f"
            },
            "baxis": {
             "endlinecolor": "#2a3f5f",
             "gridcolor": "white",
             "linecolor": "white",
             "minorgridcolor": "white",
             "startlinecolor": "#2a3f5f"
            },
            "type": "carpet"
           }
          ],
          "choropleth": [
           {
            "colorbar": {
             "outlinewidth": 0,
             "ticks": ""
            },
            "type": "choropleth"
           }
          ],
          "contour": [
           {
            "colorbar": {
             "outlinewidth": 0,
             "ticks": ""
            },
            "colorscale": [
             [
              0,
              "#0d0887"
             ],
             [
              0.1111111111111111,
              "#46039f"
             ],
             [
              0.2222222222222222,
              "#7201a8"
             ],
             [
              0.3333333333333333,
              "#9c179e"
             ],
             [
              0.4444444444444444,
              "#bd3786"
             ],
             [
              0.5555555555555556,
              "#d8576b"
             ],
             [
              0.6666666666666666,
              "#ed7953"
             ],
             [
              0.7777777777777778,
              "#fb9f3a"
             ],
             [
              0.8888888888888888,
              "#fdca26"
             ],
             [
              1,
              "#f0f921"
             ]
            ],
            "type": "contour"
           }
          ],
          "contourcarpet": [
           {
            "colorbar": {
             "outlinewidth": 0,
             "ticks": ""
            },
            "type": "contourcarpet"
           }
          ],
          "heatmap": [
           {
            "colorbar": {
             "outlinewidth": 0,
             "ticks": ""
            },
            "colorscale": [
             [
              0,
              "#0d0887"
             ],
             [
              0.1111111111111111,
              "#46039f"
             ],
             [
              0.2222222222222222,
              "#7201a8"
             ],
             [
              0.3333333333333333,
              "#9c179e"
             ],
             [
              0.4444444444444444,
              "#bd3786"
             ],
             [
              0.5555555555555556,
              "#d8576b"
             ],
             [
              0.6666666666666666,
              "#ed7953"
             ],
             [
              0.7777777777777778,
              "#fb9f3a"
             ],
             [
              0.8888888888888888,
              "#fdca26"
             ],
             [
              1,
              "#f0f921"
             ]
            ],
            "type": "heatmap"
           }
          ],
          "histogram": [
           {
            "marker": {
             "pattern": {
              "fillmode": "overlay",
              "size": 10,
              "solidity": 0.2
             }
            },
            "type": "histogram"
           }
          ],
          "histogram2d": [
           {
            "colorbar": {
             "outlinewidth": 0,
             "ticks": ""
            },
            "colorscale": [
             [
              0,
              "#0d0887"
             ],
             [
              0.1111111111111111,
              "#46039f"
             ],
             [
              0.2222222222222222,
              "#7201a8"
             ],
             [
              0.3333333333333333,
              "#9c179e"
             ],
             [
              0.4444444444444444,
              "#bd3786"
             ],
             [
              0.5555555555555556,
              "#d8576b"
             ],
             [
              0.6666666666666666,
              "#ed7953"
             ],
             [
              0.7777777777777778,
              "#fb9f3a"
             ],
             [
              0.8888888888888888,
              "#fdca26"
             ],
             [
              1,
              "#f0f921"
             ]
            ],
            "type": "histogram2d"
           }
          ],
          "histogram2dcontour": [
           {
            "colorbar": {
             "outlinewidth": 0,
             "ticks": ""
            },
            "colorscale": [
             [
              0,
              "#0d0887"
             ],
             [
              0.1111111111111111,
              "#46039f"
             ],
             [
              0.2222222222222222,
              "#7201a8"
             ],
             [
              0.3333333333333333,
              "#9c179e"
             ],
             [
              0.4444444444444444,
              "#bd3786"
             ],
             [
              0.5555555555555556,
              "#d8576b"
             ],
             [
              0.6666666666666666,
              "#ed7953"
             ],
             [
              0.7777777777777778,
              "#fb9f3a"
             ],
             [
              0.8888888888888888,
              "#fdca26"
             ],
             [
              1,
              "#f0f921"
             ]
            ],
            "type": "histogram2dcontour"
           }
          ],
          "mesh3d": [
           {
            "colorbar": {
             "outlinewidth": 0,
             "ticks": ""
            },
            "type": "mesh3d"
           }
          ],
          "parcoords": [
           {
            "line": {
             "colorbar": {
              "outlinewidth": 0,
              "ticks": ""
             }
            },
            "type": "parcoords"
           }
          ],
          "pie": [
           {
            "automargin": true,
            "type": "pie"
           }
          ],
          "scatter": [
           {
            "fillpattern": {
             "fillmode": "overlay",
             "size": 10,
             "solidity": 0.2
            },
            "type": "scatter"
           }
          ],
          "scatter3d": [
           {
            "line": {
             "colorbar": {
              "outlinewidth": 0,
              "ticks": ""
             }
            },
            "marker": {
             "colorbar": {
              "outlinewidth": 0,
              "ticks": ""
             }
            },
            "type": "scatter3d"
           }
          ],
          "scattercarpet": [
           {
            "marker": {
             "colorbar": {
              "outlinewidth": 0,
              "ticks": ""
             }
            },
            "type": "scattercarpet"
           }
          ],
          "scattergeo": [
           {
            "marker": {
             "colorbar": {
              "outlinewidth": 0,
              "ticks": ""
             }
            },
            "type": "scattergeo"
           }
          ],
          "scattergl": [
           {
            "marker": {
             "colorbar": {
              "outlinewidth": 0,
              "ticks": ""
             }
            },
            "type": "scattergl"
           }
          ],
          "scattermap": [
           {
            "marker": {
             "colorbar": {
              "outlinewidth": 0,
              "ticks": ""
             }
            },
            "type": "scattermap"
           }
          ],
          "scattermapbox": [
           {
            "marker": {
             "colorbar": {
              "outlinewidth": 0,
              "ticks": ""
             }
            },
            "type": "scattermapbox"
           }
          ],
          "scatterpolar": [
           {
            "marker": {
             "colorbar": {
              "outlinewidth": 0,
              "ticks": ""
             }
            },
            "type": "scatterpolar"
           }
          ],
          "scatterpolargl": [
           {
            "marker": {
             "colorbar": {
              "outlinewidth": 0,
              "ticks": ""
             }
            },
            "type": "scatterpolargl"
           }
          ],
          "scatterternary": [
           {
            "marker": {
             "colorbar": {
              "outlinewidth": 0,
              "ticks": ""
             }
            },
            "type": "scatterternary"
           }
          ],
          "surface": [
           {
            "colorbar": {
             "outlinewidth": 0,
             "ticks": ""
            },
            "colorscale": [
             [
              0,
              "#0d0887"
             ],
             [
              0.1111111111111111,
              "#46039f"
             ],
             [
              0.2222222222222222,
              "#7201a8"
             ],
             [
              0.3333333333333333,
              "#9c179e"
             ],
             [
              0.4444444444444444,
              "#bd3786"
             ],
             [
              0.5555555555555556,
              "#d8576b"
             ],
             [
              0.6666666666666666,
              "#ed7953"
             ],
             [
              0.7777777777777778,
              "#fb9f3a"
             ],
             [
              0.8888888888888888,
              "#fdca26"
             ],
             [
              1,
              "#f0f921"
             ]
            ],
            "type": "surface"
           }
          ],
          "table": [
           {
            "cells": {
             "fill": {
              "color": "#EBF0F8"
             },
             "line": {
              "color": "white"
             }
            },
            "header": {
             "fill": {
              "color": "#C8D4E3"
             },
             "line": {
              "color": "white"
             }
            },
            "type": "table"
           }
          ]
         },
         "layout": {
          "annotationdefaults": {
           "arrowcolor": "#2a3f5f",
           "arrowhead": 0,
           "arrowwidth": 1
          },
          "autotypenumbers": "strict",
          "coloraxis": {
           "colorbar": {
            "outlinewidth": 0,
            "ticks": ""
           }
          },
          "colorscale": {
           "diverging": [
            [
             0,
             "#8e0152"
            ],
            [
             0.1,
             "#c51b7d"
            ],
            [
             0.2,
             "#de77ae"
            ],
            [
             0.3,
             "#f1b6da"
            ],
            [
             0.4,
             "#fde0ef"
            ],
            [
             0.5,
             "#f7f7f7"
            ],
            [
             0.6,
             "#e6f5d0"
            ],
            [
             0.7,
             "#b8e186"
            ],
            [
             0.8,
             "#7fbc41"
            ],
            [
             0.9,
             "#4d9221"
            ],
            [
             1,
             "#276419"
            ]
           ],
           "sequential": [
            [
             0,
             "#0d0887"
            ],
            [
             0.1111111111111111,
             "#46039f"
            ],
            [
             0.2222222222222222,
             "#7201a8"
            ],
            [
             0.3333333333333333,
             "#9c179e"
            ],
            [
             0.4444444444444444,
             "#bd3786"
            ],
            [
             0.5555555555555556,
             "#d8576b"
            ],
            [
             0.6666666666666666,
             "#ed7953"
            ],
            [
             0.7777777777777778,
             "#fb9f3a"
            ],
            [
             0.8888888888888888,
             "#fdca26"
            ],
            [
             1,
             "#f0f921"
            ]
           ],
           "sequentialminus": [
            [
             0,
             "#0d0887"
            ],
            [
             0.1111111111111111,
             "#46039f"
            ],
            [
             0.2222222222222222,
             "#7201a8"
            ],
            [
             0.3333333333333333,
             "#9c179e"
            ],
            [
             0.4444444444444444,
             "#bd3786"
            ],
            [
             0.5555555555555556,
             "#d8576b"
            ],
            [
             0.6666666666666666,
             "#ed7953"
            ],
            [
             0.7777777777777778,
             "#fb9f3a"
            ],
            [
             0.8888888888888888,
             "#fdca26"
            ],
            [
             1,
             "#f0f921"
            ]
           ]
          },
          "colorway": [
           "#636efa",
           "#EF553B",
           "#00cc96",
           "#ab63fa",
           "#FFA15A",
           "#19d3f3",
           "#FF6692",
           "#B6E880",
           "#FF97FF",
           "#FECB52"
          ],
          "font": {
           "color": "#2a3f5f"
          },
          "geo": {
           "bgcolor": "white",
           "lakecolor": "white",
           "landcolor": "#E5ECF6",
           "showlakes": true,
           "showland": true,
           "subunitcolor": "white"
          },
          "hoverlabel": {
           "align": "left"
          },
          "hovermode": "closest",
          "mapbox": {
           "style": "light"
          },
          "paper_bgcolor": "white",
          "plot_bgcolor": "#E5ECF6",
          "polar": {
           "angularaxis": {
            "gridcolor": "white",
            "linecolor": "white",
            "ticks": ""
           },
           "bgcolor": "#E5ECF6",
           "radialaxis": {
            "gridcolor": "white",
            "linecolor": "white",
            "ticks": ""
           }
          },
          "scene": {
           "xaxis": {
            "backgroundcolor": "#E5ECF6",
            "gridcolor": "white",
            "gridwidth": 2,
            "linecolor": "white",
            "showbackground": true,
            "ticks": "",
            "zerolinecolor": "white"
           },
           "yaxis": {
            "backgroundcolor": "#E5ECF6",
            "gridcolor": "white",
            "gridwidth": 2,
            "linecolor": "white",
            "showbackground": true,
            "ticks": "",
            "zerolinecolor": "white"
           },
           "zaxis": {
            "backgroundcolor": "#E5ECF6",
            "gridcolor": "white",
            "gridwidth": 2,
            "linecolor": "white",
            "showbackground": true,
            "ticks": "",
            "zerolinecolor": "white"
           }
          },
          "shapedefaults": {
           "line": {
            "color": "#2a3f5f"
           }
          },
          "ternary": {
           "aaxis": {
            "gridcolor": "white",
            "linecolor": "white",
            "ticks": ""
           },
           "baxis": {
            "gridcolor": "white",
            "linecolor": "white",
            "ticks": ""
           },
           "bgcolor": "#E5ECF6",
           "caxis": {
            "gridcolor": "white",
            "linecolor": "white",
            "ticks": ""
           }
          },
          "title": {
           "x": 0.05
          },
          "xaxis": {
           "automargin": true,
           "gridcolor": "white",
           "linecolor": "white",
           "ticks": "",
           "title": {
            "standoff": 15
           },
           "zerolinecolor": "white",
           "zerolinewidth": 2
          },
          "yaxis": {
           "automargin": true,
           "gridcolor": "white",
           "linecolor": "white",
           "ticks": "",
           "title": {
            "standoff": 15
           },
           "zerolinecolor": "white",
           "zerolinewidth": 2
          }
         }
        },
        "title": {
         "text": "World Population by Country (2024)"
        }
       }
      }
     },
     "metadata": {},
     "output_type": "display_data"
    }
   ],
   "source": [
    "# World Population by Country (2024)\n",
    "data_map = data[data[\"Year\"] == 2024]\n",
    "fig = px.choropleth(\n",
    "    data_map,\n",
    "    locations=\"Country Code\",\n",
    "    color=\"Population\",\n",
    "    hover_name=\"Country Name\",\n",
    "    color_continuous_scale=\"Viridis\",\n",
    "    title=\"World Population by Country (2024)\"\n",
    ")\n",
    "fig.show()"
   ]
  },
  {
   "cell_type": "markdown",
   "id": "70874b79",
   "metadata": {},
   "source": [
    "Since we are dealing with a lot of countries, it might be helpful to aggregate the data by region to get a clearer picture of population trends.\n",
    "\n",
    "We will only include the data for East Africa."
   ]
  },
  {
   "cell_type": "code",
   "execution_count": 91,
   "id": "0d4aefbb",
   "metadata": {},
   "outputs": [],
   "source": [
    "# Include only East Africa\n",
    "east_africa_countries = [\n",
    "    'Burundi', 'Djibouti', 'Eritrea', 'Ethiopia', 'Kenya', 'Rwanda', 'Somalia', 'South Sudan', 'Tanzania', 'Uganda'\n",
    "]\n",
    "ea_data = data[data['Country Name'].isin(east_africa_countries)]\n",
    "\n",
    "# Save the filtered data\n",
    "ea_data.to_csv(r\"Data/east_africa_population_data.csv\", index=False)"
   ]
  },
  {
   "cell_type": "markdown",
   "id": "dbb95183",
   "metadata": {},
   "source": [
    "**Visualizing the trend of East African countries' populations**"
   ]
  },
  {
   "cell_type": "code",
   "execution_count": 92,
   "id": "2deb3299",
   "metadata": {},
   "outputs": [
    {
     "data": {
      "image/png": "[encoded data removed]",
      "text/plain": [
       "<Figure size 1200x600 with 1 Axes>"
      ]
     },
     "metadata": {},
     "output_type": "display_data"
    }
   ],
   "source": [
    "# Line plots of East African countries' populations\n",
    "plt.figure(figsize=(12,6))\n",
    "sns.lineplot(data=ea_data, x=\"Year\", y=\"Population\", hue=\"Country Name\", linewidth=2.0)\n",
    "\n",
    "plt.title(\"Population Trends in East Africa (1960–2024)\", fontsize=14, weight=\"bold\")\n",
    "plt.xlabel(\"Year\")\n",
    "plt.ylabel(\"Population\")\n",
    "plt.legend(title=\"Country\", bbox_to_anchor=(1.05, 1), loc=\"upper left\")\n",
    "plt.tight_layout()\n",
    "plt.show()"
   ]
  },
  {
   "cell_type": "markdown",
   "id": "378212b7",
   "metadata": {},
   "source": [
    "**Comparing Population Growth in East Africa**\n",
    "\n",
    "Instead of comparing the row populations, we can compare the growth rate of the populations over time. This will give us a clearer picture of how each country's population is changing relative to its own past.\n"
   ]
  },
  {
   "cell_type": "code",
   "execution_count": 93,
   "id": "0c26f070",
   "metadata": {},
   "outputs": [
    {
     "data": {
      "image/png": "[encoded data removed]",
      "text/plain": [
       "<Figure size 1200x600 with 1 Axes>"
      ]
     },
     "metadata": {},
     "output_type": "display_data"
    }
   ],
   "source": [
    "# Normalizing the data\n",
    "subset = ea_data.copy()\n",
    "subset[\"Normalized\"] = subset.groupby(\"Country Name\")[\"Population\"].transform(\n",
    "    lambda x: (x / x.iloc[0]) * 100\n",
    ")\n",
    "\n",
    "# Lineplot for normalized data\n",
    "\n",
    "plt.figure(figsize=(12,6))\n",
    "sns.lineplot(data=subset, x=\"Year\", y=\"Normalized\", hue=\"Country Name\", linewidth=2.0)\n",
    "\n",
    "plt.title(\"Normalized Population Growth in East Africa (1960=100)\", fontsize=14, weight=\"bold\")\n",
    "plt.xlabel(\"Year\")\n",
    "plt.ylabel(\"Index (1960 = 100)\")\n",
    "plt.legend(title=\"Country\", bbox_to_anchor=(1.05, 1), loc=\"upper left\")\n",
    "plt.tight_layout()\n",
    "plt.show()"
   ]
  },
  {
   "cell_type": "markdown",
   "id": "3c20d974",
   "metadata": {},
   "source": [
    "For this, we can conclude that `Djibouti` has experienced the most significant population growth rate among East African countries. \n",
    "\n",
    "The massive drop in `Rwanda's` population between 1994 to 1996 is as a result of the genocide that took place in those years claiming the lives of millions.\n",
    "\n",
    "Most countries have had a steady population growth over the years apart from `South Sudan` between the year 2018 to 2020. This drop in the population growth is as a result of the civil and political unrests.\n",
    "\n",
    "\n",
    "**Comparing the average population for East African countries**"
   ]
  },
  {
   "cell_type": "code",
   "execution_count": 94,
   "id": "12d502b5",
   "metadata": {},
   "outputs": [
    {
     "data": {
      "image/png": "[encoded data removed]",
      "text/plain": [
       "<Figure size 1400x700 with 1 Axes>"
      ]
     },
     "metadata": {},
     "output_type": "display_data"
    }
   ],
   "source": [
    "# Group by year and sum populations across EA countries\n",
    "ea_total = subset.groupby(\"Year\")[\"Population\"].sum().reset_index()\n",
    "\n",
    "# Bar chart\n",
    "plt.figure(figsize=(14,7))\n",
    "sns.barplot(data=ea_total, x=\"Year\", y=\"Population\", color=\"red\", alpha = 0.7)\n",
    "plt.title(\"Total Population of East African Countries (Yearly)\", fontsize=14, weight=\"bold\")\n",
    "plt.xlabel(\"Year\")\n",
    "plt.ylabel(\"Total Population\")\n",
    "plt.xticks(rotation=45)\n",
    "plt.tight_layout()\n",
    "plt.show()"
   ]
  },
  {
   "cell_type": "markdown",
   "id": "99bba2bc",
   "metadata": {},
   "source": [
    "The total population of East African countries has shown a steady increase over the years, with notable fluctuations due to various socio-political factors such as conflicts, economic changes, and health crises.\n",
    "\n",
    "**In 2024, the population distribution among East African countries is as follows:**"
   ]
  },
  {
   "cell_type": "code",
   "execution_count": 95,
   "id": "9bde8822",
   "metadata": {},
   "outputs": [
    {
     "data": {
      "image/png": "[encoded data removed]",
      "text/plain": [
       "<Figure size 700x700 with 1 Axes>"
      ]
     },
     "metadata": {},
     "output_type": "display_data"
    }
   ],
   "source": [
    "year = 2024\n",
    "ea_year = ea_data[ea_data[\"Year\"] == year]\n",
    "\n",
    "# Aggregate per country\n",
    "pop_by_country = ea_year.groupby(\"Country Name\")[\"Population\"].sum()\n",
    "\n",
    "fig, ax = plt.subplots(figsize=(7,7))\n",
    "wedges, texts, autotexts = ax.pie(\n",
    "    pop_by_country,\n",
    "    labels=pop_by_country.index,\n",
    "    autopct='%1.1f%%',\n",
    "    startangle=90,\n",
    "    pctdistance=0.85\n",
    ")\n",
    "\n",
    "# Donut hole\n",
    "centre_circle = plt.Circle((0,0),0.70,fc=\"white\")\n",
    "fig.gca().add_artist(centre_circle)\n",
    "\n",
    "ax.set_title(f\"Population Share of East African Countries in {year}\", fontsize=14)\n",
    "plt.tight_layout()\n",
    "plt.show()"
   ]
  }
 ],
 "metadata": {
  "kernelspec": {
   "display_name": "Python 3",
   "language": "python",
   "name": "python3"
  },
  "language_info": {
   "codemirror_mode": {
    "name": "ipython",
    "version": 3
   },
   "file_extension": ".py",
   "mimetype": "text/x-python",
   "name": "python",
   "nbconvert_exporter": "python",
   "pygments_lexer": "ipython3",
   "version": "3.13.5"
  }
 },
 "nbformat": 4,
 "nbformat_minor": 5
}
